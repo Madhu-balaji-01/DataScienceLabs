{
  "cells": [
    {
      "cell_type": "markdown",
      "metadata": {
        "id": "18Et4XauAKiM"
      },
      "source": [
        "## Load the IMDB dataset and create the vocabulary"
      ]
    },
    {
      "cell_type": "code",
      "execution_count": 108,
      "metadata": {
        "id": "_AtOTOE3AKiR"
      },
      "outputs": [],
      "source": [
        "from torchtext.datasets import IMDB\n",
        "from torchtext.data.utils import get_tokenizer\n",
        "from collections import Counter, OrderedDict\n",
        "from torchtext.vocab import vocab\n",
        "\n",
        "EMBEDDING_DIM=50\n",
        "VOCAB_SIZE=20000\n",
        "\n",
        "# Get IMDB dataset\n",
        "imdb = IMDB(split='train')\n",
        "\n",
        "# Load English tokenizer, tagger, parser and NER\n",
        "tokenizer = get_tokenizer('spacy', language='en')\n",
        "\n",
        "# build the vocab\n",
        "counter = Counter()\n",
        "for i, (label, line) in enumerate(imdb):\n",
        "    counter.update(tokenizer(line))\n",
        "\n",
        "ordered_dict = OrderedDict(counter.most_common()[:VOCAB_SIZE])\n",
        "vocab = vocab(ordered_dict)\n",
        "\n",
        "# insert special tokens and set default index to 'unknown'\n",
        "vocab.insert_token('<PAD>', 0)\n",
        "vocab.insert_token('<UNK>', 1)\n",
        "vocab.set_default_index(1)"
      ]
    },
    {
      "cell_type": "code",
      "execution_count": 109,
      "metadata": {
        "colab": {
          "base_uri": "https://localhost:8080/"
        },
        "id": "mBngNGVJGNd-",
        "outputId": "8d0c2974-da24-4a72-a254-8682f0e1446a"
      },
      "outputs": [
        {
          "name": "stdout",
          "output_type": "stream",
          "text": [
            "Vocab()\n"
          ]
        }
      ],
      "source": [
        "print(vocab)"
      ]
    },
    {
      "cell_type": "markdown",
      "metadata": {
        "id": "fpTjjr-4AKiV"
      },
      "source": [
        "## Create embedding vectors from GloVe"
      ]
    },
    {
      "cell_type": "code",
      "execution_count": 110,
      "metadata": {
        "id": "xOU6iWPcAKiW"
      },
      "outputs": [],
      "source": [
        "import torchtext as text\n",
        "\n",
        "# load glove embeddings\n",
        "vec = text.vocab.GloVe(name='6B', dim=50)\n",
        "# create the embedding matrix, a torch tensor in the shape (num_words+1, embedding_dim)\n",
        "word_emb = vec.get_vecs_by_tokens(vocab.get_itos())"
      ]
    },
    {
      "cell_type": "code",
      "execution_count": 111,
      "metadata": {
        "colab": {
          "base_uri": "https://localhost:8080/"
        },
        "id": "bkXw2inHF9hV",
        "outputId": "7481f8f4-9b8b-4f41-b7a0-a46192e32c43"
      },
      "outputs": [
        {
          "name": "stdout",
          "output_type": "stream",
          "text": [
            "\n"
          ]
        }
      ],
      "source": [
        "print()"
      ]
    },
    {
      "cell_type": "markdown",
      "metadata": {
        "id": "jJCoi3GmAKiY"
      },
      "source": [
        "## Build up train/test dataset"
      ]
    },
    {
      "cell_type": "code",
      "execution_count": 112,
      "metadata": {
        "id": "v7QlSDLyAKiY"
      },
      "outputs": [],
      "source": [
        "import torch\n",
        "from torch.utils.data import DataLoader\n",
        "from torch.utils.data.dataset import random_split\n",
        "from torchtext.data.functional import to_map_style_dataset\n",
        "\n",
        "device = torch.device(\"cuda\" if torch.cuda.is_available() else \"cpu\")\n",
        "\n",
        "# transform input text and label to ids\n",
        "def process_text(text):\n",
        "    return vocab(tokenizer(text))\n",
        "\n",
        "label_to_ids = {'pos':0, 'neg':1}\n",
        "\n",
        "# preprocess a batch of raw data (string-like text/labels) into tensors\n",
        "def collate_batch(batch):\n",
        "    label_list, text_list, offsets = [], [], [0]\n",
        "    for (_label, _text) in batch:\n",
        "        label_list.append(label_to_ids[_label])\n",
        "        processed_text = torch.tensor(process_text(_text), dtype=torch.int64)\n",
        "        text_list.append(processed_text)\n",
        "        offsets.append(processed_text.size(0))\n",
        "    # label must be in the same size as target\n",
        "    label_list = torch.tensor(label_list, dtype=torch.float)[:,None]\n",
        "    offsets = torch.tensor(offsets[:-1]).cumsum(dim=0)\n",
        "    text_list = torch.cat(text_list)\n",
        "    return label_list.to(device), text_list.to(device), offsets.to(device)\n",
        "\n",
        "train_iter, test_iter = IMDB()\n",
        "\n",
        "# transform datasets iterator into map style so that they can be repeatedly loaded in a new epoch\n",
        "train_dataset = to_map_style_dataset(train_iter)\n",
        "test_dataset = to_map_style_dataset(test_iter)\n",
        "num_test = int(len(test_dataset) * 0.9)\n",
        "\n",
        "# Question 1 - 10% of test data is set aside for validation\n",
        "# I understand the question asked us to split from train dataset but as per the documentation, the IMDb training and testing data are \n",
        "# split equally - 50% train, 50% split. To provide sufficient data for training, I am splitting the test dataset into validation dataset instead.\n",
        "split_test, split_valid = random_split(test_dataset, [num_test, len(test_dataset) - num_test])\n",
        "\n",
        "train_dataloader = DataLoader(train_dataset, batch_size=128,\n",
        "                              shuffle=True, collate_fn=collate_batch)\n",
        "valid_dataloader = DataLoader(split_valid, batch_size=128,\n",
        "                              shuffle=True, collate_fn=collate_batch)\n",
        "test_dataloader = DataLoader(split_test, batch_size=128,\n",
        "                             shuffle=True, collate_fn=collate_batch)\n"
      ]
    },
    {
      "cell_type": "markdown",
      "metadata": {
        "id": "pywCxczYAKib"
      },
      "source": [
        "## Define the logistic regression model"
      ]
    },
    {
      "cell_type": "code",
      "execution_count": 128,
      "metadata": {
        "id": "YX-SEEU6AKic"
      },
      "outputs": [],
      "source": [
        "# logistic model\n",
        "import torch\n",
        "import torch.nn as nn\n",
        "import torch.nn.functional as F\n",
        "\n",
        "class LogisticRegression(nn.Module):\n",
        "    def __init__(self, word_vec, embed_dim):\n",
        "        super().__init__()\n",
        "        # embeddingbag outputs the average of all the words in a sentence\n",
        "        \n",
        "        # Question 2 : Replace the EmbeddingBag using PyTorch builtin functions that does the same job of computing sentence representation by taking average of the word embeddings.\n",
        "        # print(word_vec.size())\n",
        "        self.embedding2 = nn.EmbeddingBag(*(word_vec.size())).from_pretrained(word_vec, freeze=False)\n",
        "        self.embedding = nn.Embedding(*(word_vec.size()), padding_idx=0).from_pretrained(word_vec, freeze=False)\n",
        "        \n",
        "                \n",
        "        # Question 3 : Write a Fully Connected Layer (FC layer) with output size of 100 followed by a non-linear activation e.g., ReLU\n",
        "        self.fc1 = nn.Linear(embed_dim, 100)\n",
        "        self.relu = nn.ReLU()\n",
        "        self.fc2 = nn.Linear(100, 1)\n",
        "        \n",
        "        self._init_weights()\n",
        "\n",
        "    def _init_weights(self):\n",
        "        \"\"\"Initialize network parameters \n",
        "        \"\"\"\n",
        "        initrange = 0.5\n",
        "        self.embedding.weight.data.uniform_(-initrange, initrange)\n",
        "        self.fc1.weight.data.uniform_(-initrange, initrange)\n",
        "        self.fc1.bias.data.zero_()\n",
        "        # self.fc2.bias.data.zero()\n",
        "\n",
        "    def forward(self, text, offsets):\n",
        "        embedded = self.embedding(text)\n",
        "\n",
        "        # embedding_mean = []\n",
        "        # for i in range(len(offsets)-1):\n",
        "        #   mean = torch.mean(embedded[offsets[i]:offsets[i+1]], dim=1)\n",
        "        #   embedding_mean.append(mean)\n",
        "        # print(len(embedding_mean))\n",
        "\n",
        "        embedded = torch.mean(embedded, dim=1, keepdim = True)\n",
        "        # print(embedded.shape)\n",
        "\n",
        "        embedded2 = self.embedding2(text,offsets)\n",
        "        # print(embedded2.shape)\n",
        "        \n",
        "        y = self.fc1(embedded2)\n",
        "        y = self.relu(y)\n",
        "        y = self.fc2(y)\n",
        "        out = torch.sigmoid(y)\n",
        "        \n",
        "        # Question 4: Use the new model you define in __init__()\n",
        "        return out"
      ]
    },
    {
      "cell_type": "markdown",
      "metadata": {
        "id": "tCFwEumuAKif"
      },
      "source": [
        "## Define train and test function"
      ]
    },
    {
      "cell_type": "code",
      "execution_count": 136,
      "metadata": {
        "id": "70DKSGvNAKig"
      },
      "outputs": [],
      "source": [
        "import time\n",
        "\n",
        "def train(train_loader, valid_loader, n = 10):\n",
        "    model.train()\n",
        "    total_acc, total_count = 0, 0\n",
        "\n",
        "    last_epoch_acc = 1000\n",
        "    no_impov = 0\n",
        "\n",
        "    log_interval = 50\n",
        "    start_time = time.time()\n",
        "\n",
        "    for idx, (label, text, offsets) in enumerate(train_loader):\n",
        "        optimizer.zero_grad()\n",
        "        # forward propagation\n",
        "        predicted_label = model(text, offsets)\n",
        "        # calculate loss and backpropagate to model paramters\n",
        "        loss = criterion(predicted_label, label)\n",
        "        loss.backward()\n",
        "        torch.nn.utils.clip_grad_norm_(model.parameters(), 0.1)\n",
        "        # update parameters by stepping the optimizer\n",
        "        optimizer.step()\n",
        "        total_acc += ((predicted_label > 0.5) == label).sum().item()\n",
        "        total_count += label.size(0)\n",
        "        if idx % log_interval == 0 and idx > 0:\n",
        "            elapsed = time.time() - start_time\n",
        "            print('| epoch {:3d} | {:5d}/{:5d} batches '\n",
        "                  '| accuracy {:8.3f}'.format(epoch, idx, len(train_loader),\n",
        "                                              total_acc/total_count))\n",
        "            total_acc, total_count = 0, 0\n",
        "            start_time = time.time()\n",
        "\n",
        "    # Early stopping\n",
        "    epoch_acc = validate(valid_loader)\n",
        "    print('Validation acc:', epoch_acc)\n",
        "\n",
        "    if epoch_acc > last_epoch_acc:\n",
        "        no_improv += 1\n",
        "\n",
        "        if no_improv >= n:\n",
        "            print('Early stopping!')\n",
        "            return model\n",
        "    else:\n",
        "        print('trigger times: 0')\n",
        "        trigger_times = 0\n",
        "\n",
        "    last_epoch_acc = epoch_acc\n",
        "\n",
        "\n",
        "def validate(dataloader):  \n",
        "   model.eval()\n",
        "   total_acc, total_count = 0,0\n",
        "   with torch.no_grad():\n",
        "      for idx, (label, text, offsets) in enumerate(dataloader):\n",
        "          predicted_label = model(text, offsets)\n",
        "          loss = criterion(predicted_label, label)\n",
        "          # total_loss += loss.item()\n",
        "          total_acc += (predicted_label.argmax(1) == label).sum().item()\n",
        "          total_count += label.size(0)\n",
        "   return total_acc/total_count\n",
        "\n",
        "\n",
        "def evaluate(dataloader):\n",
        "    model.eval()\n",
        "    total_acc, total_count = 0, 0\n",
        "\n",
        "    with torch.no_grad():\n",
        "        for idx, (label, text, offsets) in enumerate(dataloader):\n",
        "            predicted_label = model(text, offsets)\n",
        "            loss = criterion(predicted_label, label)\n",
        "            total_acc += (predicted_label.argmax(1) == label).sum().item()\n",
        "            total_count += label.size(0)\n",
        "    return total_acc/total_count"
      ]
    },
    {
      "cell_type": "markdown",
      "metadata": {
        "id": "SugRaiaPAKih"
      },
      "source": [
        "## Train and evaluate the model for several epochs"
      ]
    },
    {
      "cell_type": "code",
      "execution_count": 137,
      "metadata": {
        "colab": {
          "base_uri": "https://localhost:8080/"
        },
        "id": "V1TiGja5AKii",
        "outputId": "ce36a3f0-c30a-4942-c48e-6b3c2c336c64"
      },
      "outputs": [
        {
          "name": "stdout",
          "output_type": "stream",
          "text": [
            "| epoch   1 |    50/  196 batches | accuracy    0.500\n",
            "| epoch   1 |   100/  196 batches | accuracy    0.490\n",
            "| epoch   1 |   150/  196 batches | accuracy    0.511\n",
            "Validation acc: 60.6304\n",
            "| epoch   2 |    50/  196 batches | accuracy    0.500\n",
            "| epoch   2 |   100/  196 batches | accuracy    0.493\n",
            "| epoch   2 |   150/  196 batches | accuracy    0.497\n",
            "Validation acc: 60.7504\n",
            "| epoch   3 |    50/  196 batches | accuracy    0.496\n",
            "| epoch   3 |   100/  196 batches | accuracy    0.501\n",
            "| epoch   3 |   150/  196 batches | accuracy    0.503\n",
            "Validation acc: 60.7024\n",
            "| epoch   4 |    50/  196 batches | accuracy    0.508\n",
            "| epoch   4 |   100/  196 batches | accuracy    0.498\n",
            "| epoch   4 |   150/  196 batches | accuracy    0.492\n",
            "Validation acc: 60.7744\n",
            "| epoch   5 |    50/  196 batches | accuracy    0.493\n",
            "| epoch   5 |   100/  196 batches | accuracy    0.505\n",
            "| epoch   5 |   150/  196 batches | accuracy    0.496\n",
            "Validation acc: 60.9184\n",
            "| epoch   6 |    50/  196 batches | accuracy    0.501\n",
            "| epoch   6 |   100/  196 batches | accuracy    0.507\n",
            "| epoch   6 |   150/  196 batches | accuracy    0.494\n",
            "Validation acc: 60.6784\n",
            "| epoch   7 |    50/  196 batches | accuracy    0.492\n",
            "| epoch   7 |   100/  196 batches | accuracy    0.509\n",
            "| epoch   7 |   150/  196 batches | accuracy    0.503\n",
            "Validation acc: 60.8944\n",
            "| epoch   8 |    50/  196 batches | accuracy    0.497\n",
            "| epoch   8 |   100/  196 batches | accuracy    0.510\n",
            "| epoch   8 |   150/  196 batches | accuracy    0.495\n",
            "Validation acc: 60.6064\n",
            "| epoch   9 |    50/  196 batches | accuracy    0.511\n",
            "| epoch   9 |   100/  196 batches | accuracy    0.495\n",
            "| epoch   9 |   150/  196 batches | accuracy    0.504\n",
            "Validation acc: 60.6544\n",
            "| epoch  10 |    50/  196 batches | accuracy    0.498\n",
            "| epoch  10 |   100/  196 batches | accuracy    0.507\n",
            "| epoch  10 |   150/  196 batches | accuracy    0.503\n",
            "Validation acc: 60.8224\n",
            "| epoch  11 |    50/  196 batches | accuracy    0.502\n",
            "| epoch  11 |   100/  196 batches | accuracy    0.492\n",
            "| epoch  11 |   150/  196 batches | accuracy    0.511\n",
            "Validation acc: 60.8224\n",
            "| epoch  12 |    50/  196 batches | accuracy    0.502\n",
            "| epoch  12 |   100/  196 batches | accuracy    0.502\n",
            "| epoch  12 |   150/  196 batches | accuracy    0.500\n",
            "Validation acc: 60.7504\n",
            "| epoch  13 |    50/  196 batches | accuracy    0.508\n",
            "| epoch  13 |   100/  196 batches | accuracy    0.508\n",
            "| epoch  13 |   150/  196 batches | accuracy    0.505\n",
            "Validation acc: 60.7984\n",
            "| epoch  14 |    50/  196 batches | accuracy    0.502\n",
            "| epoch  14 |   100/  196 batches | accuracy    0.506\n",
            "| epoch  14 |   150/  196 batches | accuracy    0.498\n",
            "Validation acc: 60.8944\n",
            "| epoch  15 |    50/  196 batches | accuracy    0.510\n",
            "| epoch  15 |   100/  196 batches | accuracy    0.499\n",
            "| epoch  15 |   150/  196 batches | accuracy    0.508\n",
            "Validation acc: 60.8704\n",
            "| epoch  16 |    50/  196 batches | accuracy    0.514\n",
            "| epoch  16 |   100/  196 batches | accuracy    0.510\n",
            "| epoch  16 |   150/  196 batches | accuracy    0.504\n",
            "Validation acc: 60.8224\n",
            "| epoch  17 |    50/  196 batches | accuracy    0.509\n",
            "| epoch  17 |   100/  196 batches | accuracy    0.504\n",
            "| epoch  17 |   150/  196 batches | accuracy    0.514\n",
            "Validation acc: 60.7024\n",
            "| epoch  18 |    50/  196 batches | accuracy    0.508\n",
            "| epoch  18 |   100/  196 batches | accuracy    0.505\n",
            "| epoch  18 |   150/  196 batches | accuracy    0.506\n",
            "Validation acc: 60.6544\n",
            "| epoch  19 |    50/  196 batches | accuracy    0.508\n",
            "| epoch  19 |   100/  196 batches | accuracy    0.512\n",
            "| epoch  19 |   150/  196 batches | accuracy    0.508\n",
            "Validation acc: 60.7504\n",
            "| epoch  20 |    50/  196 batches | accuracy    0.512\n",
            "| epoch  20 |   100/  196 batches | accuracy    0.517\n",
            "| epoch  20 |   150/  196 batches | accuracy    0.512\n",
            "Validation acc: 60.5824\n",
            "| epoch  21 |    50/  196 batches | accuracy    0.505\n",
            "| epoch  21 |   100/  196 batches | accuracy    0.520\n",
            "| epoch  21 |   150/  196 batches | accuracy    0.510\n",
            "Validation acc: 60.7504\n",
            "| epoch  22 |    50/  196 batches | accuracy    0.523\n",
            "| epoch  22 |   100/  196 batches | accuracy    0.512\n",
            "| epoch  22 |   150/  196 batches | accuracy    0.508\n",
            "Validation acc: 60.6544\n",
            "| epoch  23 |    50/  196 batches | accuracy    0.517\n",
            "| epoch  23 |   100/  196 batches | accuracy    0.512\n",
            "| epoch  23 |   150/  196 batches | accuracy    0.504\n",
            "Validation acc: 60.7504\n",
            "| epoch  24 |    50/  196 batches | accuracy    0.516\n",
            "| epoch  24 |   100/  196 batches | accuracy    0.518\n",
            "| epoch  24 |   150/  196 batches | accuracy    0.513\n",
            "Validation acc: 60.8704\n",
            "| epoch  25 |    50/  196 batches | accuracy    0.509\n",
            "| epoch  25 |   100/  196 batches | accuracy    0.521\n",
            "| epoch  25 |   150/  196 batches | accuracy    0.504\n",
            "Validation acc: 60.7744\n",
            "| epoch  26 |    50/  196 batches | accuracy    0.514\n",
            "| epoch  26 |   100/  196 batches | accuracy    0.516\n",
            "| epoch  26 |   150/  196 batches | accuracy    0.516\n",
            "Validation acc: 60.5824\n",
            "| epoch  27 |    50/  196 batches | accuracy    0.523\n",
            "| epoch  27 |   100/  196 batches | accuracy    0.505\n",
            "| epoch  27 |   150/  196 batches | accuracy    0.514\n",
            "Validation acc: 60.6544\n",
            "| epoch  28 |    50/  196 batches | accuracy    0.515\n",
            "| epoch  28 |   100/  196 batches | accuracy    0.519\n",
            "| epoch  28 |   150/  196 batches | accuracy    0.508\n",
            "Validation acc: 60.7984\n",
            "| epoch  29 |    50/  196 batches | accuracy    0.518\n",
            "| epoch  29 |   100/  196 batches | accuracy    0.514\n",
            "| epoch  29 |   150/  196 batches | accuracy    0.519\n",
            "Validation acc: 60.7744\n",
            "| epoch  30 |    50/  196 batches | accuracy    0.521\n",
            "| epoch  30 |   100/  196 batches | accuracy    0.513\n",
            "| epoch  30 |   150/  196 batches | accuracy    0.518\n",
            "Validation acc: 60.7984\n"
          ]
        }
      ],
      "source": [
        "# Hyperparameters\n",
        "EPOCHS = 30 # epoch\n",
        "\n",
        "model = LogisticRegression(word_vec=word_emb, embed_dim=EMBEDDING_DIM).to(device)\n",
        "optimizer = torch.optim.SGD(model.parameters(), lr=0.001)\n",
        "criterion = torch.nn.BCELoss()\n",
        "total_accu = None\n",
        "\n",
        "\n",
        "for epoch in range(1, EPOCHS + 1):\n",
        "    epoch_start_time = time.time()\n",
        "    train(train_dataloader, valid_dataloader, n=10)\n",
        "    \n",
        "    # Question 5: Use your validation set to early stop the model. Remember to early stop when the validation accuracy does not improve for continous N number of epochs where N is a hyperparameter. Set N = 10"
      ]
    },
    {
      "cell_type": "code",
      "execution_count": null,
      "metadata": {
        "id": "fzmko-slAKil",
        "outputId": "fb4f4a8a-f87a-4c3c-c69c-13fa64e0a252"
      },
      "outputs": [
        {
          "name": "stdout",
          "output_type": "stream",
          "text": [
            "test accuracy    63.94%\n"
          ]
        }
      ],
      "source": [
        "accu_test = evaluate(test_dataloader)\n",
        "print('test accuracy {:8.2f}%'.format(accu_test))"
      ]
    }
  ],
  "metadata": {
    "accelerator": "GPU",
    "colab": {
      "collapsed_sections": [],
      "name": "logistic_regression_imdb_Lab_6.ipynb",
      "provenance": []
    },
    "interpreter": {
      "hash": "64c7587c57fab0328c0f08a8fa64e3e786b56407a0ea30be36fecc0cd89940e6"
    },
    "kernelspec": {
      "display_name": "Python 3",
      "language": "python",
      "name": "python3"
    },
    "language_info": {
      "codemirror_mode": {
        "name": "ipython",
        "version": 3
      },
      "file_extension": ".py",
      "mimetype": "text/x-python",
      "name": "python",
      "nbconvert_exporter": "python",
      "pygments_lexer": "ipython3",
      "version": "3.7.6"
    }
  },
  "nbformat": 4,
  "nbformat_minor": 0
}
